{
 "cells": [
  {
   "cell_type": "markdown",
   "metadata": {},
   "source": [
    "Imports"
   ]
  },
  {
   "cell_type": "code",
   "execution_count": null,
   "metadata": {},
   "outputs": [],
   "source": [
    "import numpy as np\n",
    "import pandas as pd\n",
    "import os\n",
    "import zipfile\n",
    "from matplotlib import pyplot as plt\n",
    "import cv2\n",
    "import random\n",
    "import keras\n",
    "import tensorflow as tf\n",
    "from keras.models import Model, load_model\n",
    "import shutil\n"
   ]
  },
  {
   "cell_type": "markdown",
   "metadata": {},
   "source": [
    "Print TensorFlow and Keras versions to ensure compatibility"
   ]
  },
  {
   "cell_type": "code",
   "execution_count": null,
   "metadata": {},
   "outputs": [],
   "source": [
    "\n",
    "print(tf.__version__)\n",
    "print(keras.__version__)\n"
   ]
  },
  {
   "cell_type": "markdown",
   "metadata": {},
   "source": [
    "Change Working Directory (Adjust this as per your local path)"
   ]
  },
  {
   "cell_type": "code",
   "execution_count": null,
   "metadata": {},
   "outputs": [],
   "source": [
    "\n",
    "os.chdir(\"<your project directory>/Classifier/\")\n",
    "print(os.getcwd())\n"
   ]
  },
  {
   "cell_type": "markdown",
   "metadata": {},
   "source": [
    "Define Directories and Load the Model"
   ]
  },
  {
   "cell_type": "code",
   "execution_count": null,
   "metadata": {},
   "outputs": [],
   "source": [
    "Dir_Name = '<directory name>'\n",
    "Root_Dir = \"<your project directory>/Classifier/Model-Training/Data/nf/\"\n",
    "mon = Dir_Name\n",
    "\n",
    "# Load the pre-trained model for classification\n",
    "try:\n",
    "    model_path = \"<your project directory>/Classifier/Model-Training/Code/ModelForClassifier/CNN.model7\"\n",
    "    new_model = tf.keras.models.load_model(model_path)\n",
    "    print(\"Model loaded successfully.\")\n",
    "except Exception as e:\n",
    "    print(f\"Error loading model: {e}\")\n"
   ]
  },
  {
   "cell_type": "markdown",
   "metadata": {},
   "source": [
    "Create and Change to a New Directory for Storing Classified Images"
   ]
  },
  {
   "cell_type": "code",
   "execution_count": null,
   "metadata": {},
   "outputs": [],
   "source": [
    "new_directory = os.path.join(Root_Dir, mon)\n",
    "if not os.path.exists(new_directory):\n",
    "    os.mkdir(new_directory)\n",
    "print(f\"Directory is set to: {new_directory}\")\n",
    "\n",
    "os.chdir(new_directory)\n",
    "print(f\"Current working directory: {os.getcwd()}\")\n"
   ]
  },
  {
   "cell_type": "markdown",
   "metadata": {},
   "source": [
    "Unzip the Data Files to the New Directory"
   ]
  },
  {
   "cell_type": "code",
   "execution_count": null,
   "metadata": {},
   "outputs": [],
   "source": [
    "def unzip_data(zip_path, extract_to):\n",
    "    \"\"\"\n",
    "    Unzip the dataset into the specified directory, avoiding nested folders.\n",
    "    \n",
    "    Parameters:\n",
    "    zip_path (str): Path to the zip file.\n",
    "    extract_to (str): Directory to extract the zip file to.\n",
    "    \"\"\"\n",
    "    with zipfile.ZipFile(zip_path, 'r') as zip_ref:\n",
    "        zip_ref.extractall(extract_to)\n",
    "    print(f\"Data unzipped successfully to {extract_to}\")\n",
    "\n",
    "# Unzip the dataset into the new directory\n",
    "zip_file_path = os.path.join(Root_Dir, Dir_Name + '.zip')\n",
    "if os.path.exists(zip_file_path):\n",
    "    unzip_data(zip_file_path, new_directory)\n",
    "else:\n",
    "    print(f\"Zip file not found: {zip_file_path}\")\n",
    "\n",
    "print(os.listdir(new_directory))\n"
   ]
  },
  {
   "cell_type": "markdown",
   "metadata": {},
   "source": [
    "Prepare Image Paths for Prediction"
   ]
  },
  {
   "cell_type": "code",
   "execution_count": null,
   "metadata": {},
   "outputs": [],
   "source": [
    "# Get a dictionary of folders and their respective image names as key-value pairs\n",
    "folder_filenames_dict = {}\n",
    "for i, (dirpath, dirnames, filenames) in enumerate(os.walk(new_directory)):\n",
    "    split_dirname_list = dirpath.split(os.sep)\n",
    "    if i == 0:\n",
    "        root_folder_name = dirpath\n",
    "        telegram_channels_names = dirnames\n",
    "    elif i == 2:\n",
    "        key = split_dirname_list[-2]\n",
    "        value = [f for f in filenames if '.ini' != os.path.splitext(f)[1]]\n",
    "        folder_filenames_dict[key] = [len(value), value]\n",
    "    elif split_dirname_list[-1] == \"photos\":\n",
    "        key = split_dirname_list[-2]\n",
    "        value = filenames\n",
    "        folder_filenames_dict[key] = [len(filenames), value]\n",
    "\n",
    "print(folder_filenames_dict)\n"
   ]
  },
  {
   "cell_type": "code",
   "execution_count": null,
   "metadata": {},
   "outputs": [],
   "source": [
    "# Function to prepare images for prediction\n",
    "def prepare_image(filepath):\n",
    "    \"\"\"\n",
    "    Prepare an image for prediction by resizing and normalizing.\n",
    "    \n",
    "    Parameters:\n",
    "    filepath (str): Path to the image file.\n",
    "    \n",
    "    Returns:\n",
    "    np.array: Reshaped and normalized image array.\n",
    "    \"\"\"\n",
    "    img_size = 224\n",
    "    img_array = cv2.imread(filepath, cv2.IMREAD_GRAYSCALE)\n",
    "    rgb_img = cv2.cvtColor(img_array, cv2.COLOR_BGR2RGB)\n",
    "    resized_img = cv2.resize(rgb_img, (img_size, img_size))\n",
    "    normalized_img = resized_img / 255.0\n",
    "    return normalized_img.reshape(-1, img_size, img_size, 3)\n",
    "\n",
    "# %%\n",
    "print(\"Image preparation function defined.\")\n"
   ]
  },
  {
   "cell_type": "code",
   "execution_count": null,
   "metadata": {},
   "outputs": [],
   "source": [
    "# Prepare file paths for images to be predicted\n",
    "pred_class_list = []\n",
    "original_class_list = []\n",
    "photos_folder = 'photos'\n",
    "image_paths = []\n",
    "\n",
    "# Construct image paths\n",
    "for folder_name, (count, filenames) in folder_filenames_dict.items():\n",
    "    for filename in filenames:\n",
    "        image_path = os.path.join(new_directory, folder_name, photos_folder, filename)\n",
    "        image_paths.append(image_path)\n",
    "\n",
    "# Remove the first element if necessary (example adjustment)\n",
    "image_paths = image_paths[1:]\n",
    "\n",
    "# Print the constructed image paths\n",
    "print(image_paths)\n",
    "print(f\"Total images: {len(image_paths)}\")\n"
   ]
  },
  {
   "cell_type": "code",
   "execution_count": null,
   "metadata": {},
   "outputs": [],
   "source": [
    "# Predict a sample image to verify the model's functionality\n",
    "from skimage.io import imread\n",
    "from PIL import Image as Ima\n",
    "\n",
    "# Verify the first image path and predict\n",
    "if image_paths:\n",
    "    first_image_path = image_paths[0]\n",
    "    if os.path.exists(first_image_path):\n",
    "        img = imread(first_image_path)\n",
    "        data = Ima.fromarray(img)\n",
    "        data.show()\n",
    "\n",
    "        prediction = new_model.predict([prepare_image(first_image_path)])\n",
    "        predicted_class = np.argmax(prediction)\n",
    "        print(f\"Predicted class for the first image: {predicted_class}\")\n",
    "    else:\n",
    "        print(f\"Image not found: {first_image_path}\")\n",
    "else:\n",
    "    print(\"No images found for prediction.\")\n"
   ]
  },
  {
   "cell_type": "markdown",
   "metadata": {},
   "source": [
    "Predict and Classify Images"
   ]
  },
  {
   "cell_type": "code",
   "execution_count": null,
   "metadata": {},
   "outputs": [],
   "source": [
    "from tqdm import tqdm\n",
    "\n",
    "cheques_class_images = []\n",
    "bank_acc_class_images = []\n",
    "money_apps_class_images = []\n",
    "error_images = []\n",
    "\n",
    "# Predict and classify images\n",
    "for image_path in tqdm(image_paths):\n",
    "    try:\n",
    "        prediction = new_model.predict([prepare_image(image_path)])\n",
    "        predicted_class = np.argmax(prediction)\n",
    "        \n",
    "        if predicted_class == 1:\n",
    "            cheques_class_images.append(image_path)\n",
    "        elif predicted_class == 0:\n",
    "            bank_acc_class_images.append(image_path)\n",
    "        elif predicted_class == 2:\n",
    "            money_apps_class_images.append(image_path)\n",
    "    except Exception as e:\n",
    "        error_images.append((image_path, str(e)))\n",
    "\n",
    "print(f\"Total errors: {len(error_images)}\")\n",
    "print(f\"Cheques class images: {len(cheques_class_images)}\")\n",
    "print(f\"Bank account class images: {len(bank_acc_class_images)}\")\n",
    "print(f\"Money apps class images: {len(money_apps_class_images)}\")\n"
   ]
  },
  {
   "cell_type": "code",
   "execution_count": null,
   "metadata": {},
   "outputs": [],
   "source": [
    "# Save the lists of file paths for future reference\n",
    "def save_list_to_file(list_data, filename):\n",
    "    \"\"\"\n",
    "    Save a list of strings to a file.\n",
    "    \n",
    "    Parameters:\n",
    "    list_data (list): List of strings to be saved.\n",
    "    filename (str): Name of the file to save the data.\n",
    "    \"\"\"\n",
    "    with open(filename, 'w') as file:\n",
    "        for item in list_data:\n",
    "            file.write(f\"{item}\\n\")\n",
    "    print(f\"Data saved to {filename}\")\n",
    "\n",
    "# Save classified image paths\n",
    "mon_d1_d2 = mon\n",
    "save_list_to_file(bank_acc_class_images, f\"{mon_d1_d2}_bankAccClassImages.txt\")\n",
    "save_list_to_file(money_apps_class_images, f\"{mon_d1_d2}_moneyAppsClassImages.txt\")\n",
    "save_list_to_file(cheques_class_images, f\"{mon_d1_d2}_chequesClassImages.txt\")\n"
   ]
  },
  {
   "cell_type": "code",
   "execution_count": null,
   "metadata": {},
   "outputs": [],
   "source": [
    "# Copy classified images to respective folders\n",
    "def copy_images_to_folder(image_list, destination_folder):\n",
    "    \"\"\"\n",
    "    Copy images from a list to a specified folder.\n",
    "    \n",
    "    Parameters:\n",
    "    image_list (list): List of image paths to be copied.\n",
    "    destination_folder (str): Destination folder path.\n",
    "    \"\"\"\n",
    "    if not os.path.exists(destination_folder):\n",
    "        os.mkdir(destination_folder)\n",
    "\n",
    "    for image_path in image_list:\n",
    "        source = image_path\n",
    "        if os.path.exists(source):\n",
    "            shutil.copy2(source, destination_folder)\n",
    "        else:\n",
    "            print(f\"Source image not found: {source}\")\n",
    "    print(f\"Copied {len(image_list)} images to {destination_folder}\")\n",
    "\n",
    "cheques_folder = os.path.join(new_directory, f\"{mon_d1_d2}_chequesClassified\")\n",
    "money_apps_folder = os.path.join(new_directory, f\"{mon_d1_d2}_moneyAppsClassified\")\n",
    "bank_acc_folder = os.path.join(new_directory, f\"{mon_d1_d2}_bankAccClassified\")\n",
    "\n",
    "copy_images_to_folder(cheques_class_images, cheques_folder)\n",
    "copy_images_to_folder(money_apps_class_images, money_apps_folder)\n",
    "copy_images_to_folder(bank_acc_class_images, bank_acc_folder)\n"
   ]
  },
  {
   "cell_type": "code",
   "execution_count": null,
   "metadata": {},
   "outputs": [],
   "source": [
    "# Create ZIP archives of the classified folders\n",
    "def create_zip_archive(folder_path):\n",
    "    \"\"\"\n",
    "    Create a ZIP archive of a specified folder.\n",
    "    \n",
    "    Parameters:\n",
    "    folder_path (str): Path of the folder to be archived.\n",
    "    \"\"\"\n",
    "    archive_path = f\"{folder_path}.zip\"\n",
    "    shutil.make_archive(folder_path, 'zip', folder_path)\n",
    "    print(f\"Created ZIP archive: {archive_path}\")\n",
    "\n",
    "create_zip_archive(cheques_folder)\n",
    "create_zip_archive(money_apps_folder)\n",
    "create_zip_archive(bank_acc_folder)\n"
   ]
  }
 ],
 "metadata": {
  "kernelspec": {
   "display_name": "Python 3",
   "language": "python",
   "name": "python3"
  },
  "language_info": {
   "codemirror_mode": {
    "name": "ipython",
    "version": 3
   },
   "file_extension": ".py",
   "mimetype": "text/x-python",
   "name": "python",
   "nbconvert_exporter": "python",
   "pygments_lexer": "ipython3",
   "version": "3.11.4"
  }
 },
 "nbformat": 4,
 "nbformat_minor": 2
}
